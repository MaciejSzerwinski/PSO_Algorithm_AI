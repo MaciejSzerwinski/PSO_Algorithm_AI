{
 "cells": [
  {
   "cell_type": "code",
   "execution_count": 65,
   "metadata": {},
   "outputs": [
    {
     "ename": "SyntaxError",
     "evalue": "positional argument follows keyword argument (1649471678.py, line 14)",
     "output_type": "error",
     "traceback": [
      "\u001b[1;36m  Input \u001b[1;32mIn [65]\u001b[1;36m\u001b[0m\n\u001b[1;33m    ax.scatter(x=num, [y for y in range(0, num+1)], color='b', marker='o')\u001b[0m\n\u001b[1;37m                                                                         ^\u001b[0m\n\u001b[1;31mSyntaxError\u001b[0m\u001b[1;31m:\u001b[0m positional argument follows keyword argument\n"
     ]
    }
   ],
   "source": [
    "import numpy as np\n",
    "import matplotlib.pyplot as plt\n",
    "from matplotlib.animation import FuncAnimation\n",
    "\n",
    "x = [i for i in range(20)]\n",
    "y = [k for k in range(20)]\n",
    "\n",
    "def animate_func(num):\n",
    "    ax.clear()  # Clears the figure to update the line, point,   \n",
    "                # title, and axes\n",
    "    ax.set_title(f'Iteracja {num+1} - Funkcja sferyczna')\n",
    "    # Updating Point Location \n",
    "    # ax.scatter([x for x in range(0, num+1)], [y for y in range(0, num+1)], color='b', marker='o')\n",
    "\n",
    "    # Setting Axes Limits\n",
    "    ax.set_xlim([0, 20])\n",
    "    ax.set_ylim([0, 20])\n",
    "    ax.set_xlabel('x')\n",
    "    ax.set_ylabel('y')\n",
    "\n",
    "# Inicjalizacja wykresu dla funkcji sferycznej\n",
    "fig = plt.figure(figsize=(10, 10))\n",
    "ax = fig.add_subplot(111)\n",
    "\n",
    "line_ani = FuncAnimation(fig, animate_func, interval=100, init_func=lambda: None, frames=20)\n",
    "line_ani.save('testy.mp4', writer='ffmpeg', dpi=200)\n",
    "\n",
    "plt.show()"
   ]
  },
  {
   "cell_type": "code",
   "execution_count": null,
   "metadata": {},
   "outputs": [],
   "source": [
    "import numpy as np\n",
    "import matplotlib.pyplot as plt\n",
    "from matplotlib.animation import FuncAnimation\n",
    "\n",
    "x = [np.random.uniform(0, 1) for i in range(50)]\n",
    "y = [k for k in range(20)]\n",
    "\n",
    "def animate_func(num):\n",
    "    ax.clear()  # Clears the figure to update the line, point,   \n",
    "                # title, and axes\n",
    "    ax.set_title(f'Iteracja {num+1} - Funkcja sferyczna')\n",
    "    # Updating Point Location \n",
    "    # ax.scatter([x for x in range(0, num+1)], [y for y in range(0, num+1)], color='b', marker='o')\n",
    "\n",
    "    # Setting Axes Limits\n",
    "    ax.set_xlim([0, 20])\n",
    "    ax.set_ylim([0, 20])\n",
    "    ax.set_xlabel('x')\n",
    "    ax.set_ylabel('y')\n",
    "\n",
    "# Inicjalizacja wykresu dla funkcji sferycznej\n",
    "fig = plt.figure(figsize=(10, 10))\n",
    "ax = fig.add_subplot(111)\n",
    "\n",
    "line_ani = FuncAnimation(fig, animate_func, interval=100, init_func=lambda: None, frames=20)\n",
    "line_ani.save('testy.mp4', writer='ffmpeg', dpi=200)\n",
    "\n",
    "plt.show()"
   ]
  }
 ],
 "metadata": {
  "kernelspec": {
   "display_name": "Python 3",
   "language": "python",
   "name": "python3"
  },
  "language_info": {
   "codemirror_mode": {
    "name": "ipython",
    "version": 3
   },
   "file_extension": ".py",
   "mimetype": "text/x-python",
   "name": "python",
   "nbconvert_exporter": "python",
   "pygments_lexer": "ipython3",
   "version": "3.10.4"
  },
  "orig_nbformat": 4
 },
 "nbformat": 4,
 "nbformat_minor": 2
}
